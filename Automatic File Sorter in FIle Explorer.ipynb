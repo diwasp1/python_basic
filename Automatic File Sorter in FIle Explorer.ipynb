{
 "cells": [
  {
   "cell_type": "code",
   "execution_count": 108,
   "id": "e56b8d56",
   "metadata": {},
   "outputs": [],
   "source": [
    "#import library\n",
    "import os, shutil"
   ]
  },
  {
   "cell_type": "code",
   "execution_count": 109,
   "id": "203d44f4",
   "metadata": {},
   "outputs": [],
   "source": [
    "#path of the file to be sorted\n",
    "path = r\"/Users/dibaspaudel/Desktop/Python/python_basic/file/\""
   ]
  },
  {
   "cell_type": "code",
   "execution_count": 121,
   "id": "f8ec8343",
   "metadata": {},
   "outputs": [
    {
     "name": "stdout",
     "output_type": "stream",
     "text": [
      "['.DS_Store', 'txt', 'test.py', 'png', 'json', 'csv']\n",
      "['py']\n"
     ]
    }
   ],
   "source": [
    "#list the files and dir inside the folder\n",
    "files = os.listdir(path)\n",
    "print(files)\n",
    "\n",
    "# create a empty set\n",
    "folder_names = set()\n",
    "\n",
    "# create a set of unique file extension\n",
    "for name in files:\n",
    "    file_name = os.path.splitext(name)[1][1:].strip()\n",
    "    folder_names.add(file_name)\n",
    "\n",
    "# remove the empty string\n",
    "folder_names.remove(\"\")\n",
    "\n",
    "# convert into list\n",
    "folder_names = list(folder_names)\n",
    "\n",
    "print(folder_names)\n"
   ]
  },
  {
   "cell_type": "code",
   "execution_count": 122,
   "id": "338595e5",
   "metadata": {},
   "outputs": [
    {
     "name": "stdout",
     "output_type": "stream",
     "text": [
      "/Users/dibaspaudel/Desktop/Python/python_basic/file/py\n"
     ]
    }
   ],
   "source": [
    "# check the folder exists and if not make the folder\n",
    "\n",
    "for names in folder_names:\n",
    "    if not os.path.exists(path + names):\n",
    "        os.makedirs(path + names)\n",
    "        print(path + names)"
   ]
  },
  {
   "cell_type": "code",
   "execution_count": 91,
   "id": "88d9ca66",
   "metadata": {},
   "outputs": [
    {
     "name": "stdout",
     "output_type": "stream",
     "text": [
      " there are files in the path that were not moved!\n",
      " there are files in the path that were not moved!\n",
      " there are files in the path that were not moved!\n",
      " there are files in the path that were not moved!\n",
      " there are files in the path that were not moved!\n",
      " there are files in the path that were not moved!\n",
      " there are files in the path that were not moved!\n",
      " there are files in the path that were not moved!\n",
      " there are files in the path that were not moved!\n"
     ]
    }
   ],
   "source": [
    "# one - by one method\n",
    "#for file in files:\n",
    "   # if \".csv\" in file and not os.path.exists(path + 'csv/' + file):\n",
    "    #    shutil.move(path + file, path + 'csv/' + file)\n",
    "   # elif \".png\" in file and not os.path.exists(path + 'png/' + file):\n",
    "    #    shutil.move(path + file, path + 'png/' + file)\n",
    "    #elif \".txt\" in file and not os.path.exists(path + 'txt/' + file):\n",
    "    #    shutil.move(path + file, path + 'txt/' + file)\n",
    "    #elif \".json\" in file and not os.path.exists(path + 'json/' + file):\n",
    "    #    shutil.move(path + file, path + 'json/' + file)\n",
    "   # else:\n",
    "    #    print(\" there are files in the path that were not moved!\")"
   ]
  },
  {
   "cell_type": "code",
   "execution_count": 123,
   "id": "59af5956",
   "metadata": {},
   "outputs": [
    {
     "name": "stdout",
     "output_type": "stream",
     "text": [
      " there are files in the path that were not moved!\n",
      " there are files in the path that were not moved!\n",
      " there are files in the path that were not moved!\n",
      " there are files in the path that were not moved!\n",
      " there are files in the path that were not moved!\n"
     ]
    }
   ],
   "source": [
    "# generalised method to sort and move file into respective folder\n",
    "for file in files:\n",
    "    for name in folder_names:\n",
    "        if \".\" + name in file and not os.path.exists(path + name + \"/\" + file):\n",
    "            shutil.move(path + file, path + name + \"/\" + file)\n",
    "        else:\n",
    "            print(\" there are files in the path that were not moved!\")"
   ]
  },
  {
   "cell_type": "code",
   "execution_count": null,
   "id": "fdeaa904",
   "metadata": {},
   "outputs": [],
   "source": []
  },
  {
   "cell_type": "code",
   "execution_count": null,
   "id": "31f5cb59",
   "metadata": {},
   "outputs": [],
   "source": []
  },
  {
   "cell_type": "code",
   "execution_count": null,
   "id": "ac55c4dc",
   "metadata": {},
   "outputs": [],
   "source": []
  },
  {
   "cell_type": "code",
   "execution_count": null,
   "id": "6c7615e9",
   "metadata": {},
   "outputs": [],
   "source": []
  },
  {
   "cell_type": "code",
   "execution_count": null,
   "id": "3c2dc801",
   "metadata": {},
   "outputs": [],
   "source": []
  }
 ],
 "metadata": {
  "kernelspec": {
   "display_name": "Python 3 (ipykernel)",
   "language": "python",
   "name": "python3"
  },
  "language_info": {
   "codemirror_mode": {
    "name": "ipython",
    "version": 3
   },
   "file_extension": ".py",
   "mimetype": "text/x-python",
   "name": "python",
   "nbconvert_exporter": "python",
   "pygments_lexer": "ipython3",
   "version": "3.11.3"
  }
 },
 "nbformat": 4,
 "nbformat_minor": 5
}
