{
 "cells": [
  {
   "cell_type": "code",
   "execution_count": null,
   "id": "fbb51090",
   "metadata": {},
   "outputs": [],
   "source": [
    "# BMI = (weight in pound x 703)/(height in inches x height in inches)"
   ]
  },
  {
   "cell_type": "code",
   "execution_count": 14,
   "id": "b9d3f20f",
   "metadata": {},
   "outputs": [
    {
     "name": "stdout",
     "output_type": "stream",
     "text": [
      "Enter your name: Alex\n",
      "Enter your weight in pounds: 170\n",
      "Enter your weight in inches: 69\n",
      "25.101869355177485\n"
     ]
    }
   ],
   "source": [
    "#inputs\n",
    "\n",
    "name = input(\"Enter your name: \")\n",
    "weight = float(input(\"Enter your weight in pounds: \"))\n",
    "\n",
    "height = float(input(\"Enter your weight in inches: \"))\n",
    "\n",
    "\n",
    "BMI = (weight * 703) / (height * height)\n",
    "\n",
    "print(BMI)\n"
   ]
  },
  {
   "cell_type": "code",
   "execution_count": 15,
   "id": "3a7bec2b",
   "metadata": {},
   "outputs": [
    {
     "name": "stdout",
     "output_type": "stream",
     "text": [
      "Alex, You are over weight\n"
     ]
    }
   ],
   "source": [
    "if BMI > 0:\n",
    "    if (BMI < 18.5):\n",
    "        print(name + \", You are underweight\")\n",
    "    elif(BMI <= 24.9):\n",
    "         print(name + \", You are normal weight\")\n",
    "    elif(BMI < 29.9):\n",
    "         print(name + \", You are over weight\")\n",
    "    elif(BMI < 34.9):\n",
    "         print(name + \", You are obese\")\n",
    "    elif(BMI < 39.9):\n",
    "         print(name + \" ,You are severely obese\")\n",
    "    else:\n",
    "        print(name + \", You are morbodly obese\")\n",
    "else:\n",
    "    print(\"Enter thr valid input\")"
   ]
  },
  {
   "cell_type": "code",
   "execution_count": null,
   "id": "4d6557dd",
   "metadata": {},
   "outputs": [],
   "source": []
  }
 ],
 "metadata": {
  "kernelspec": {
   "display_name": "Python 3 (ipykernel)",
   "language": "python",
   "name": "python3"
  },
  "language_info": {
   "codemirror_mode": {
    "name": "ipython",
    "version": 3
   },
   "file_extension": ".py",
   "mimetype": "text/x-python",
   "name": "python",
   "nbconvert_exporter": "python",
   "pygments_lexer": "ipython3",
   "version": "3.11.3"
  }
 },
 "nbformat": 4,
 "nbformat_minor": 5
}
