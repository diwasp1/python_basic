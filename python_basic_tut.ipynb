{
 "cells": [
  {
   "cell_type": "markdown",
   "id": "2c1638bd",
   "metadata": {},
   "source": [
    "# Python Basics"
   ]
  },
  {
   "cell_type": "markdown",
   "id": "141188c6",
   "metadata": {},
   "source": [
    "# Variables"
   ]
  },
  {
   "cell_type": "code",
   "execution_count": 6,
   "id": "191a20de",
   "metadata": {},
   "outputs": [
    {
     "name": "stdout",
     "output_type": "stream",
     "text": [
      "22\n"
     ]
    }
   ],
   "source": [
    "x = 22\n",
    "\n",
    "print(x)"
   ]
  },
  {
   "cell_type": "code",
   "execution_count": 7,
   "id": "a2685491",
   "metadata": {},
   "outputs": [
    {
     "data": {
      "text/plain": [
       "int"
      ]
     },
     "execution_count": 7,
     "metadata": {},
     "output_type": "execute_result"
    }
   ],
   "source": [
    "type(x)"
   ]
  },
  {
   "cell_type": "code",
   "execution_count": 8,
   "id": "6e41b652",
   "metadata": {},
   "outputs": [
    {
     "name": "stdout",
     "output_type": "stream",
     "text": [
      "Mint Chocolate Chip\n"
     ]
    }
   ],
   "source": [
    "y = \"Mint Chocolate Chip\"\n",
    "\n",
    "print(y)"
   ]
  },
  {
   "cell_type": "code",
   "execution_count": 9,
   "id": "1101854f",
   "metadata": {},
   "outputs": [
    {
     "data": {
      "text/plain": [
       "str"
      ]
     },
     "execution_count": 9,
     "metadata": {},
     "output_type": "execute_result"
    }
   ],
   "source": [
    "type(y)"
   ]
  },
  {
   "cell_type": "code",
   "execution_count": 13,
   "id": "f7e14a6c",
   "metadata": {},
   "outputs": [
    {
     "name": "stdout",
     "output_type": "stream",
     "text": [
      "Chocolate\n",
      "Mint Chocolate Chip\n"
     ]
    }
   ],
   "source": [
    "y = \"Chocolate\"\n",
    "Y = \"Mint Chocolate Chip\"\n",
    "\n",
    "\n",
    "print(y)\n",
    "print(Y)"
   ]
  },
  {
   "cell_type": "code",
   "execution_count": 15,
   "id": "ff064aa2",
   "metadata": {},
   "outputs": [],
   "source": [
    "x,y,z = 4 , \"apple\", True"
   ]
  },
  {
   "cell_type": "code",
   "execution_count": 16,
   "id": "33463548",
   "metadata": {},
   "outputs": [
    {
     "name": "stdout",
     "output_type": "stream",
     "text": [
      "4 apple True\n"
     ]
    }
   ],
   "source": [
    "print(x,y,z)"
   ]
  },
  {
   "cell_type": "code",
   "execution_count": 18,
   "id": "bf7416c6",
   "metadata": {},
   "outputs": [
    {
     "name": "stdout",
     "output_type": "stream",
     "text": [
      "Nice\n"
     ]
    }
   ],
   "source": [
    "x = y = z = \"Nice\"\n",
    "\n",
    "print(x)"
   ]
  },
  {
   "cell_type": "code",
   "execution_count": 23,
   "id": "5ef2e8e3",
   "metadata": {},
   "outputs": [
    {
     "name": "stdout",
     "output_type": "stream",
     "text": [
      "['chocolate', 'Vanilla', 'Rocky Road']\n",
      "Vanilla\n"
     ]
    }
   ],
   "source": [
    "#list\n",
    "ice_cream = [\"chocolate\",\"Vanilla\", \"Rocky Road\"]\n",
    "\n",
    "print(ice_cream)\n",
    "\n",
    "x,y,z = ice_cream\n",
    "\n",
    "print(y)"
   ]
  },
  {
   "cell_type": "markdown",
   "id": "a591a99c",
   "metadata": {},
   "source": [
    "# Naming Variable"
   ]
  },
  {
   "cell_type": "code",
   "execution_count": 27,
   "id": "757b71b6",
   "metadata": {},
   "outputs": [],
   "source": [
    "# Camel Case\n",
    "\n",
    "# Test variable case\n",
    "\n",
    "testVariableCase = \"Vanilla Swirl\""
   ]
  },
  {
   "cell_type": "code",
   "execution_count": 26,
   "id": "764ff259",
   "metadata": {},
   "outputs": [],
   "source": [
    "# Pascal Case\n",
    "\n",
    "# Test Variable Case\n",
    "\n",
    "TestVariableCase = \"Vanilla Swirl\""
   ]
  },
  {
   "cell_type": "code",
   "execution_count": 25,
   "id": "2df97401",
   "metadata": {},
   "outputs": [],
   "source": [
    "# Snake Case\n",
    "\n",
    "# Test Variable Case\n",
    "\n",
    "test_variable_case = \"Vanilla Swirl\""
   ]
  },
  {
   "cell_type": "code",
   "execution_count": null,
   "id": "1e0da35d",
   "metadata": {},
   "outputs": [],
   "source": [
    "testvar = \"Vanilla Swirl\"\n",
    "test_var = \"Vanilla Swirl\"\n",
    "_test_var = \"Vanilla Swirl\"\n",
    "testVar = \"Vanilla Swirl\"\n",
    "TestVar = \"Vanilla Swirl\"\n",
    "testvar2 = \"Vanilla Swirl\""
   ]
  },
  {
   "cell_type": "code",
   "execution_count": 30,
   "id": "3f3ad5a8",
   "metadata": {},
   "outputs": [],
   "source": [
    "# cant use\n",
    "\n",
    "# 2testvar = \"Vanilla Swirl\"\n",
    "# test-var = \"Vanilla Swirl\"\n",
    "# test var = \"Vanilla Swirl\"\n",
    "# test,var = \"Vanilla Swirl\""
   ]
  },
  {
   "cell_type": "code",
   "execution_count": 31,
   "id": "d0e6f552",
   "metadata": {},
   "outputs": [
    {
     "name": "stdout",
     "output_type": "stream",
     "text": [
      "ice cream is my favorite.\n"
     ]
    }
   ],
   "source": [
    "x = 'ice cream is my favorite' + \".\"\n",
    "\n",
    "print(x)"
   ]
  },
  {
   "cell_type": "code",
   "execution_count": 33,
   "id": "e434bfd8",
   "metadata": {},
   "outputs": [],
   "source": [
    "#  cant use\n",
    "## x = 'ice cream is my favorite' + 2\n",
    "\n",
    "## print(x)"
   ]
  },
  {
   "cell_type": "code",
   "execution_count": 35,
   "id": "f34562b6",
   "metadata": {},
   "outputs": [
    {
     "name": "stdout",
     "output_type": "stream",
     "text": [
      "ice cream is my favorite.\n"
     ]
    }
   ],
   "source": [
    "x = \"ice cream\"\n",
    "y =\" is\"\n",
    "z = \" my favorite.\"\n",
    "\n",
    "print(x+y+z)"
   ]
  },
  {
   "cell_type": "code",
   "execution_count": 36,
   "id": "591dd42b",
   "metadata": {},
   "outputs": [
    {
     "name": "stdout",
     "output_type": "stream",
     "text": [
      "6\n"
     ]
    }
   ],
   "source": [
    "x = 1\n",
    "y = 2\n",
    "z = 3\n",
    "\n",
    "print(x+y+z)"
   ]
  },
  {
   "cell_type": "markdown",
   "id": "c1673c3d",
   "metadata": {},
   "source": [
    "# Data Types"
   ]
  },
  {
   "cell_type": "code",
   "execution_count": 42,
   "id": "80ae3a8e",
   "metadata": {},
   "outputs": [
    {
     "data": {
      "text/plain": [
       "int"
      ]
     },
     "execution_count": 42,
     "metadata": {},
     "output_type": "execute_result"
    }
   ],
   "source": [
    "type(12)\n",
    "type(-12 +23)"
   ]
  },
  {
   "cell_type": "code",
   "execution_count": 43,
   "id": "3c1c6634",
   "metadata": {},
   "outputs": [
    {
     "data": {
      "text/plain": [
       "float"
      ]
     },
     "execution_count": 43,
     "metadata": {},
     "output_type": "execute_result"
    }
   ],
   "source": [
    "type(-12 + 10.25)"
   ]
  },
  {
   "cell_type": "code",
   "execution_count": 44,
   "id": "f650209b",
   "metadata": {},
   "outputs": [
    {
     "data": {
      "text/plain": [
       "complex"
      ]
     },
     "execution_count": 44,
     "metadata": {},
     "output_type": "execute_result"
    }
   ],
   "source": [
    "type(-12 + 3j)"
   ]
  },
  {
   "cell_type": "code",
   "execution_count": 48,
   "id": "77dfa8dc",
   "metadata": {},
   "outputs": [
    {
     "data": {
      "text/plain": [
       "bool"
      ]
     },
     "execution_count": 48,
     "metadata": {},
     "output_type": "execute_result"
    }
   ],
   "source": [
    "#Boolean\n",
    "\n",
    "type(True)"
   ]
  },
  {
   "cell_type": "code",
   "execution_count": 49,
   "id": "cf5474f7",
   "metadata": {},
   "outputs": [
    {
     "data": {
      "text/plain": [
       "False"
      ]
     },
     "execution_count": 49,
     "metadata": {},
     "output_type": "execute_result"
    }
   ],
   "source": [
    "1 > 5"
   ]
  },
  {
   "cell_type": "code",
   "execution_count": 51,
   "id": "1ce095c8",
   "metadata": {},
   "outputs": [
    {
     "data": {
      "text/plain": [
       "True"
      ]
     },
     "execution_count": 51,
     "metadata": {},
     "output_type": "execute_result"
    }
   ],
   "source": [
    "1 == 1"
   ]
  },
  {
   "cell_type": "code",
   "execution_count": 53,
   "id": "3b7fe87d",
   "metadata": {},
   "outputs": [
    {
     "data": {
      "text/plain": [
       "'Single Quote'"
      ]
     },
     "execution_count": 53,
     "metadata": {},
     "output_type": "execute_result"
    }
   ],
   "source": [
    "# Strings\n",
    "\n",
    "'Single Quote'"
   ]
  },
  {
   "cell_type": "code",
   "execution_count": 54,
   "id": "2775dc3e",
   "metadata": {},
   "outputs": [
    {
     "data": {
      "text/plain": [
       "'Double Quote'"
      ]
     },
     "execution_count": 54,
     "metadata": {},
     "output_type": "execute_result"
    }
   ],
   "source": [
    "\"Double Quote\""
   ]
  },
  {
   "cell_type": "code",
   "execution_count": 62,
   "id": "17e6e5f6",
   "metadata": {},
   "outputs": [
    {
     "data": {
      "text/plain": [
       "'\\nThis is the multi line\\nquote triple quote.\\n'"
      ]
     },
     "execution_count": 62,
     "metadata": {},
     "output_type": "execute_result"
    }
   ],
   "source": [
    "\"\"\"\n",
    "This is the multi line\n",
    "quote triple quote.\n",
    "\"\"\""
   ]
  },
  {
   "cell_type": "code",
   "execution_count": 63,
   "id": "1071d1fe",
   "metadata": {},
   "outputs": [
    {
     "name": "stdout",
     "output_type": "stream",
     "text": [
      "\n",
      "This is the multi line\n",
      "quote triple quote.\n",
      "\n"
     ]
    }
   ],
   "source": [
    "multiline = \"\"\"\n",
    "This is the multi line\n",
    "quote triple quote.\n",
    "\"\"\"\n",
    "\n",
    "print(multiline)"
   ]
  },
  {
   "cell_type": "code",
   "execution_count": 64,
   "id": "4a882606",
   "metadata": {},
   "outputs": [
    {
     "data": {
      "text/plain": [
       "str"
      ]
     },
     "execution_count": 64,
     "metadata": {},
     "output_type": "execute_result"
    }
   ],
   "source": [
    "type(multiline)"
   ]
  },
  {
   "cell_type": "code",
   "execution_count": 65,
   "id": "741c533b",
   "metadata": {},
   "outputs": [],
   "source": [
    "a = \"Hello World\""
   ]
  },
  {
   "cell_type": "code",
   "execution_count": 73,
   "id": "dc86eebe",
   "metadata": {},
   "outputs": [
    {
     "name": "stdout",
     "output_type": "stream",
     "text": [
      "H\n"
     ]
    }
   ],
   "source": [
    "print(a[0])"
   ]
  },
  {
   "cell_type": "code",
   "execution_count": 66,
   "id": "b255cbf3",
   "metadata": {
    "scrolled": true
   },
   "outputs": [
    {
     "name": "stdout",
     "output_type": "stream",
     "text": [
      "Hello\n"
     ]
    }
   ],
   "source": [
    "print(a[:5])"
   ]
  },
  {
   "cell_type": "code",
   "execution_count": 70,
   "id": "838c990b",
   "metadata": {},
   "outputs": [
    {
     "name": "stdout",
     "output_type": "stream",
     "text": [
      "W\n"
     ]
    }
   ],
   "source": [
    "print(a[6])"
   ]
  },
  {
   "cell_type": "code",
   "execution_count": 72,
   "id": "c6c8d729",
   "metadata": {},
   "outputs": [
    {
     "name": "stdout",
     "output_type": "stream",
     "text": [
      "d\n"
     ]
    }
   ],
   "source": [
    "print(a[-1])"
   ]
  },
  {
   "cell_type": "code",
   "execution_count": 74,
   "id": "a6b20423",
   "metadata": {},
   "outputs": [
    {
     "name": "stdout",
     "output_type": "stream",
     "text": [
      "llo\n"
     ]
    }
   ],
   "source": [
    "print(a[2:5])"
   ]
  },
  {
   "cell_type": "code",
   "execution_count": 75,
   "id": "0d656470",
   "metadata": {},
   "outputs": [
    {
     "data": {
      "text/plain": [
       "'Hello WorldHello WorldHello World'"
      ]
     },
     "execution_count": 75,
     "metadata": {},
     "output_type": "execute_result"
    }
   ],
   "source": [
    "a*3"
   ]
  },
  {
   "cell_type": "code",
   "execution_count": 76,
   "id": "b0be7c27",
   "metadata": {},
   "outputs": [
    {
     "data": {
      "text/plain": [
       "'Hello WorldHello World'"
      ]
     },
     "execution_count": 76,
     "metadata": {},
     "output_type": "execute_result"
    }
   ],
   "source": [
    "a + a"
   ]
  },
  {
   "cell_type": "code",
   "execution_count": 81,
   "id": "7a1b456e",
   "metadata": {},
   "outputs": [
    {
     "data": {
      "text/plain": [
       "list"
      ]
     },
     "execution_count": 81,
     "metadata": {},
     "output_type": "execute_result"
    }
   ],
   "source": [
    "#list\n",
    "\n",
    "[1,2,3]\n",
    "\n",
    "a = [1,2,3]\n",
    "type(a)"
   ]
  },
  {
   "cell_type": "code",
   "execution_count": 78,
   "id": "5b6a3ebe",
   "metadata": {},
   "outputs": [
    {
     "data": {
      "text/plain": [
       "['Cookie Dough', 'Strawberry', ' Chocolate']"
      ]
     },
     "execution_count": 78,
     "metadata": {},
     "output_type": "execute_result"
    }
   ],
   "source": [
    "['Cookie Dough', 'Strawberry', ' Chocolate']"
   ]
  },
  {
   "cell_type": "code",
   "execution_count": 79,
   "id": "62bdabce",
   "metadata": {},
   "outputs": [
    {
     "data": {
      "text/plain": [
       "['Vanilla', 3, ['Scoops', 'Spoon'], True]"
      ]
     },
     "execution_count": 79,
     "metadata": {},
     "output_type": "execute_result"
    }
   ],
   "source": [
    "['Vanilla', 3 , ['Scoops', 'Spoon'], True]"
   ]
  },
  {
   "cell_type": "code",
   "execution_count": 83,
   "id": "38f24a16",
   "metadata": {},
   "outputs": [
    {
     "data": {
      "text/plain": [
       "['Cookie Dough', 'Strawberry', ' Chocolate', 'Salted Caramel']"
      ]
     },
     "execution_count": 83,
     "metadata": {},
     "output_type": "execute_result"
    }
   ],
   "source": [
    "#Manipulating List\n",
    "\n",
    "ice_cream = ['Cookie Dough', 'Strawberry', ' Chocolate']\n",
    "ice_cream.append('Salted Caramel')\n",
    "\n",
    "ice_cream"
   ]
  },
  {
   "cell_type": "code",
   "execution_count": 84,
   "id": "372024d2",
   "metadata": {},
   "outputs": [],
   "source": [
    "ice_cream[0] = 'Butter Pecan'"
   ]
  },
  {
   "cell_type": "code",
   "execution_count": 85,
   "id": "fd55ec40",
   "metadata": {},
   "outputs": [
    {
     "data": {
      "text/plain": [
       "['Butter Pecan', 'Strawberry', ' Chocolate', 'Salted Caramel']"
      ]
     },
     "execution_count": 85,
     "metadata": {},
     "output_type": "execute_result"
    }
   ],
   "source": [
    "ice_cream"
   ]
  },
  {
   "cell_type": "code",
   "execution_count": 92,
   "id": "1aa6a946",
   "metadata": {},
   "outputs": [
    {
     "data": {
      "text/plain": [
       "'Spoon'"
      ]
     },
     "execution_count": 92,
     "metadata": {},
     "output_type": "execute_result"
    }
   ],
   "source": [
    "# Nested List\n",
    "\n",
    "nested_list = ['Vanilla', 3 , ['Scoops', 'Spoon'], True]\n",
    "\n",
    "nested_list[2][1]"
   ]
  },
  {
   "cell_type": "code",
   "execution_count": 93,
   "id": "6cc84e64",
   "metadata": {},
   "outputs": [],
   "source": [
    "# Tuple\n",
    "\n",
    "# it cannot be changed or modified after it created\n",
    "\n",
    "tuple_scoops = (1,2,3,2,1)"
   ]
  },
  {
   "cell_type": "code",
   "execution_count": 96,
   "id": "cbbd8b28",
   "metadata": {},
   "outputs": [
    {
     "data": {
      "text/plain": [
       "tuple"
      ]
     },
     "execution_count": 96,
     "metadata": {},
     "output_type": "execute_result"
    }
   ],
   "source": [
    "type(tuple_scoops)"
   ]
  },
  {
   "cell_type": "code",
   "execution_count": 97,
   "id": "4d265d5b",
   "metadata": {},
   "outputs": [
    {
     "data": {
      "text/plain": [
       "2"
      ]
     },
     "execution_count": 97,
     "metadata": {},
     "output_type": "execute_result"
    }
   ],
   "source": [
    "tuple_scoops[1]"
   ]
  },
  {
   "cell_type": "code",
   "execution_count": 119,
   "id": "61929649",
   "metadata": {},
   "outputs": [],
   "source": [
    "# sets\n",
    "\n",
    "# cannot acces set through index\n",
    "\n",
    "daily_pints = {1,2,3}\n"
   ]
  },
  {
   "cell_type": "code",
   "execution_count": 116,
   "id": "76f45780",
   "metadata": {},
   "outputs": [
    {
     "data": {
      "text/plain": [
       "set"
      ]
     },
     "execution_count": 116,
     "metadata": {},
     "output_type": "execute_result"
    }
   ],
   "source": [
    "type(daily_pints)"
   ]
  },
  {
   "cell_type": "code",
   "execution_count": 118,
   "id": "b2ea38b4",
   "metadata": {},
   "outputs": [
    {
     "name": "stdout",
     "output_type": "stream",
     "text": [
      "{1, 2, 3}\n"
     ]
    }
   ],
   "source": [
    "print(daily_pints)"
   ]
  },
  {
   "cell_type": "code",
   "execution_count": 110,
   "id": "761b330a",
   "metadata": {},
   "outputs": [
    {
     "name": "stdout",
     "output_type": "stream",
     "text": [
      "{32, 1, 2, 33, 4, 5, 7, 44}\n"
     ]
    }
   ],
   "source": [
    "daily_pints_logs = {1,2,32,4,5,7,44,33,44,5}\n",
    "print(daily_pints_logs)"
   ]
  },
  {
   "cell_type": "code",
   "execution_count": 113,
   "id": "bdf67bd5",
   "metadata": {},
   "outputs": [],
   "source": [
    "wifes_daily_pints_logs = {1,2,4,5,55,4,33,69}"
   ]
  },
  {
   "cell_type": "code",
   "execution_count": 114,
   "id": "d11a4007",
   "metadata": {},
   "outputs": [
    {
     "name": "stdout",
     "output_type": "stream",
     "text": [
      "{32, 1, 2, 33, 4, 5, 69, 7, 44, 55}\n"
     ]
    }
   ],
   "source": [
    "print(daily_pints_logs | wifes_daily_pints_logs)"
   ]
  },
  {
   "cell_type": "code",
   "execution_count": 120,
   "id": "b41715ed",
   "metadata": {},
   "outputs": [
    {
     "name": "stdout",
     "output_type": "stream",
     "text": [
      "{1, 2, 33, 4, 5}\n"
     ]
    }
   ],
   "source": [
    "print(daily_pints_logs & wifes_daily_pints_logs)"
   ]
  },
  {
   "cell_type": "code",
   "execution_count": 121,
   "id": "e7e0e8d0",
   "metadata": {},
   "outputs": [
    {
     "name": "stdout",
     "output_type": "stream",
     "text": [
      "{32, 44, 7}\n"
     ]
    }
   ],
   "source": [
    "print(daily_pints_logs - wifes_daily_pints_logs)"
   ]
  },
  {
   "cell_type": "code",
   "execution_count": 122,
   "id": "27a5632a",
   "metadata": {},
   "outputs": [
    {
     "name": "stdout",
     "output_type": "stream",
     "text": [
      "{32, 69, 7, 44, 55}\n"
     ]
    }
   ],
   "source": [
    "print(daily_pints_logs ^ wifes_daily_pints_logs)"
   ]
  },
  {
   "cell_type": "code",
   "execution_count": 123,
   "id": "664b5b96",
   "metadata": {},
   "outputs": [],
   "source": [
    "#Dictionaries\n",
    "\n",
    "# Key/ Value Pair\n",
    "\n",
    "dict_cream = {'name': 'Alex', 'weekly intake': 5, 'favorite ice cream': ['MCC', 'Strawberry', 'Chocolate']}\n"
   ]
  },
  {
   "cell_type": "code",
   "execution_count": 125,
   "id": "5810522c",
   "metadata": {},
   "outputs": [
    {
     "data": {
      "text/plain": [
       "dict"
      ]
     },
     "execution_count": 125,
     "metadata": {},
     "output_type": "execute_result"
    }
   ],
   "source": [
    "type(dict_cream)"
   ]
  },
  {
   "cell_type": "code",
   "execution_count": 126,
   "id": "d1414ff0",
   "metadata": {},
   "outputs": [
    {
     "name": "stdout",
     "output_type": "stream",
     "text": [
      "{'name': 'Alex', 'weekly intake': 5, 'favorite ice cream': ['MCC', 'Strawberry', 'Chocolate']}\n"
     ]
    }
   ],
   "source": [
    "print(dict_cream)"
   ]
  },
  {
   "cell_type": "code",
   "execution_count": 128,
   "id": "a41192df",
   "metadata": {},
   "outputs": [
    {
     "data": {
      "text/plain": [
       "dict_values(['Alex', 5, ['MCC', 'Strawberry', 'Chocolate']])"
      ]
     },
     "execution_count": 128,
     "metadata": {},
     "output_type": "execute_result"
    }
   ],
   "source": [
    "dict_cream.values()"
   ]
  },
  {
   "cell_type": "code",
   "execution_count": 129,
   "id": "7fbd1d2e",
   "metadata": {},
   "outputs": [
    {
     "data": {
      "text/plain": [
       "dict_keys(['name', 'weekly intake', 'favorite ice cream'])"
      ]
     },
     "execution_count": 129,
     "metadata": {},
     "output_type": "execute_result"
    }
   ],
   "source": [
    "dict_cream.keys()"
   ]
  },
  {
   "cell_type": "code",
   "execution_count": 130,
   "id": "9dce7e24",
   "metadata": {},
   "outputs": [
    {
     "data": {
      "text/plain": [
       "dict_items([('name', 'Alex'), ('weekly intake', 5), ('favorite ice cream', ['MCC', 'Strawberry', 'Chocolate'])])"
      ]
     },
     "execution_count": 130,
     "metadata": {},
     "output_type": "execute_result"
    }
   ],
   "source": [
    "dict_cream.items()"
   ]
  },
  {
   "cell_type": "code",
   "execution_count": 140,
   "id": "4337a94a",
   "metadata": {},
   "outputs": [
    {
     "data": {
      "text/plain": [
       "'Strawberry'"
      ]
     },
     "execution_count": 140,
     "metadata": {},
     "output_type": "execute_result"
    }
   ],
   "source": [
    "dict_cream['favorite ice cream'][1]"
   ]
  },
  {
   "cell_type": "code",
   "execution_count": 142,
   "id": "b5d0ab57",
   "metadata": {},
   "outputs": [
    {
     "name": "stdout",
     "output_type": "stream",
     "text": [
      "{'name': 'Christian', 'weekly intake': 5, 'favorite ice cream': ['MCC', 'Strawberry', 'Chocolate']}\n"
     ]
    }
   ],
   "source": [
    "dict_cream['name'] = \"Christian\"\n",
    "\n",
    "print(dict_cream)"
   ]
  },
  {
   "cell_type": "code",
   "execution_count": 144,
   "id": "9955c6a1",
   "metadata": {},
   "outputs": [
    {
     "name": "stdout",
     "output_type": "stream",
     "text": [
      "{'name': 'Christian', 'weekly intake': 5, 'favorite ice cream': ['MCC', 'Strawberry', 'Chocolate'], 'weight': 300}\n"
     ]
    }
   ],
   "source": [
    "dict_cream.update({'name': 'Christian', 'weekly intake': 5, 'weight': 300})\n",
    "\n",
    "print(dict_cream)\n",
    "\n",
    "#update wont delete or replace the dict// it will just update "
   ]
  },
  {
   "cell_type": "code",
   "execution_count": 150,
   "id": "f83f9df6",
   "metadata": {},
   "outputs": [
    {
     "name": "stdout",
     "output_type": "stream",
     "text": [
      "{'name': 'Christian', 'weekly intake': 5, 'favorite ice cream': ['MCC', 'Strawberry', 'Chocolate']}\n"
     ]
    }
   ],
   "source": [
    "#delete\n",
    "\n",
    "del dict_cream['weight']\n",
    "print(dict_cream)"
   ]
  },
  {
   "cell_type": "markdown",
   "id": "59316086",
   "metadata": {},
   "source": [
    "# Comparison Operators"
   ]
  },
  {
   "cell_type": "code",
   "execution_count": 1,
   "id": "3948b9f9",
   "metadata": {},
   "outputs": [
    {
     "data": {
      "text/plain": [
       "True"
      ]
     },
     "execution_count": 1,
     "metadata": {},
     "output_type": "execute_result"
    }
   ],
   "source": [
    "10 == 10"
   ]
  },
  {
   "cell_type": "code",
   "execution_count": 2,
   "id": "232d46c8",
   "metadata": {},
   "outputs": [
    {
     "data": {
      "text/plain": [
       "False"
      ]
     },
     "execution_count": 2,
     "metadata": {},
     "output_type": "execute_result"
    }
   ],
   "source": [
    "10 == 50"
   ]
  },
  {
   "cell_type": "code",
   "execution_count": 3,
   "id": "cd87851c",
   "metadata": {},
   "outputs": [
    {
     "data": {
      "text/plain": [
       "True"
      ]
     },
     "execution_count": 3,
     "metadata": {},
     "output_type": "execute_result"
    }
   ],
   "source": [
    "10 != 50"
   ]
  },
  {
   "cell_type": "code",
   "execution_count": 4,
   "id": "feca0104",
   "metadata": {},
   "outputs": [
    {
     "data": {
      "text/plain": [
       "False"
      ]
     },
     "execution_count": 4,
     "metadata": {},
     "output_type": "execute_result"
    }
   ],
   "source": [
    "'Vanilla ' == \"Chocolate\""
   ]
  },
  {
   "cell_type": "code",
   "execution_count": 5,
   "id": "c7f4a139",
   "metadata": {},
   "outputs": [
    {
     "data": {
      "text/plain": [
       "True"
      ]
     },
     "execution_count": 5,
     "metadata": {},
     "output_type": "execute_result"
    }
   ],
   "source": [
    "10 < 50"
   ]
  },
  {
   "cell_type": "code",
   "execution_count": 6,
   "id": "08c359ab",
   "metadata": {
    "scrolled": true
   },
   "outputs": [
    {
     "data": {
      "text/plain": [
       "True"
      ]
     },
     "execution_count": 6,
     "metadata": {},
     "output_type": "execute_result"
    }
   ],
   "source": [
    "10 <= 10"
   ]
  },
  {
   "cell_type": "markdown",
   "id": "31785df2",
   "metadata": {},
   "source": [
    "# logical Operators"
   ]
  },
  {
   "cell_type": "code",
   "execution_count": 8,
   "id": "f3b2f2c0",
   "metadata": {},
   "outputs": [
    {
     "data": {
      "text/plain": [
       "False"
      ]
     },
     "execution_count": 8,
     "metadata": {},
     "output_type": "execute_result"
    }
   ],
   "source": [
    "\n",
    "\n",
    "(10 > 50) and (50 > 10)"
   ]
  },
  {
   "cell_type": "code",
   "execution_count": 9,
   "id": "45b23d8f",
   "metadata": {},
   "outputs": [
    {
     "data": {
      "text/plain": [
       "True"
      ]
     },
     "execution_count": 9,
     "metadata": {},
     "output_type": "execute_result"
    }
   ],
   "source": [
    "(70 > 50) and (50 > 10)"
   ]
  },
  {
   "cell_type": "code",
   "execution_count": 10,
   "id": "acc61eff",
   "metadata": {},
   "outputs": [
    {
     "data": {
      "text/plain": [
       "True"
      ]
     },
     "execution_count": 10,
     "metadata": {},
     "output_type": "execute_result"
    }
   ],
   "source": [
    "(10 > 50) or (50 > 10)"
   ]
  },
  {
   "cell_type": "code",
   "execution_count": 11,
   "id": "62370a72",
   "metadata": {},
   "outputs": [
    {
     "data": {
      "text/plain": [
       "False"
      ]
     },
     "execution_count": 11,
     "metadata": {},
     "output_type": "execute_result"
    }
   ],
   "source": [
    "not(50 > 10)"
   ]
  },
  {
   "cell_type": "markdown",
   "id": "4d95e602",
   "metadata": {},
   "source": [
    "# Membership Operators"
   ]
  },
  {
   "cell_type": "code",
   "execution_count": 12,
   "id": "2b56810c",
   "metadata": {},
   "outputs": [
    {
     "data": {
      "text/plain": [
       "True"
      ]
     },
     "execution_count": 12,
     "metadata": {},
     "output_type": "execute_result"
    }
   ],
   "source": [
    "\n",
    "\n",
    "ice_cream = \"I love Chocolate ice cream\"\n",
    "\n",
    "'love' in ice_cream"
   ]
  },
  {
   "cell_type": "code",
   "execution_count": 16,
   "id": "b6943528",
   "metadata": {},
   "outputs": [
    {
     "data": {
      "text/plain": [
       "True"
      ]
     },
     "execution_count": 16,
     "metadata": {},
     "output_type": "execute_result"
    }
   ],
   "source": [
    "scoops = [1,2,3,4,5]\n",
    "\n",
    "wanted_scoops = 8\n",
    "\n",
    "2 in scoops\n"
   ]
  },
  {
   "cell_type": "code",
   "execution_count": 14,
   "id": "475834b1",
   "metadata": {},
   "outputs": [
    {
     "data": {
      "text/plain": [
       "True"
      ]
     },
     "execution_count": 14,
     "metadata": {},
     "output_type": "execute_result"
    }
   ],
   "source": [
    "6 not in scoops"
   ]
  },
  {
   "cell_type": "code",
   "execution_count": 17,
   "id": "4e842697",
   "metadata": {},
   "outputs": [
    {
     "data": {
      "text/plain": [
       "False"
      ]
     },
     "execution_count": 17,
     "metadata": {},
     "output_type": "execute_result"
    }
   ],
   "source": [
    "wanted_scoops in scoops"
   ]
  },
  {
   "cell_type": "markdown",
   "id": "417a9bc2",
   "metadata": {},
   "source": [
    "# If - Elif-  Else Statemet "
   ]
  },
  {
   "cell_type": "code",
   "execution_count": 18,
   "id": "365e8c0f",
   "metadata": {},
   "outputs": [
    {
     "name": "stdout",
     "output_type": "stream",
     "text": [
      "it worked!\n"
     ]
    }
   ],
   "source": [
    "if 25 > 10:\n",
    "    print(\"it worked!\")"
   ]
  },
  {
   "cell_type": "code",
   "execution_count": 23,
   "id": "f4e41198",
   "metadata": {},
   "outputs": [
    {
     "name": "stdout",
     "output_type": "stream",
     "text": [
      "elif worked\n"
     ]
    }
   ],
   "source": [
    "if 25 < 10:\n",
    "    print(\"it worked!\")\n",
    "elif 25 < 30:\n",
    "    print('elif worked')\n",
    "elif 25 < 32:\n",
    "    print('elif 2 worked')\n",
    "else:\n",
    "    print(\"it did not worked\")"
   ]
  },
  {
   "cell_type": "code",
   "execution_count": 24,
   "id": "486dc825",
   "metadata": {},
   "outputs": [
    {
     "name": "stdout",
     "output_type": "stream",
     "text": [
      "it doesnot\n"
     ]
    }
   ],
   "source": [
    "print('It Worked') if 10>30 else print (\"it doesnot\")"
   ]
  },
  {
   "cell_type": "code",
   "execution_count": 27,
   "id": "67a26bce",
   "metadata": {},
   "outputs": [
    {
     "name": "stdout",
     "output_type": "stream",
     "text": [
      "it worked!\n",
      "nested if\n"
     ]
    }
   ],
   "source": [
    "# nested if\n",
    "\n",
    "if 25 > 10:\n",
    "    print(\"it worked!\")\n",
    "    if 10 > 5:\n",
    "        print(\"nested if\")\n",
    "elif 25 < 30:\n",
    "    print('elif 1 worked')\n",
    "elif 25 < 32:\n",
    "    print('elif 2 worked')\n",
    "else:\n",
    "    print(\"it did not worked\")"
   ]
  },
  {
   "cell_type": "markdown",
   "id": "61e376e6",
   "metadata": {},
   "source": [
    "# for loop"
   ]
  },
  {
   "cell_type": "code",
   "execution_count": 28,
   "id": "2b26bddb",
   "metadata": {},
   "outputs": [],
   "source": [
    "integers = [1,2,3,4,5]"
   ]
  },
  {
   "cell_type": "code",
   "execution_count": 30,
   "id": "c370507e",
   "metadata": {},
   "outputs": [
    {
     "name": "stdout",
     "output_type": "stream",
     "text": [
      "1\n",
      "2\n",
      "3\n",
      "4\n",
      "5\n"
     ]
    }
   ],
   "source": [
    "for number in integers:\n",
    "    print(number)"
   ]
  },
  {
   "cell_type": "code",
   "execution_count": 38,
   "id": "a3106783",
   "metadata": {},
   "outputs": [],
   "source": [
    "integers = [1,2,3,4,5]"
   ]
  },
  {
   "cell_type": "code",
   "execution_count": 39,
   "id": "06084731",
   "metadata": {},
   "outputs": [
    {
     "name": "stdout",
     "output_type": "stream",
     "text": [
      "2\n",
      "4\n",
      "6\n",
      "8\n",
      "10\n"
     ]
    }
   ],
   "source": [
    "for i in integers:\n",
    "    print(i+i)\n",
    "    "
   ]
  },
  {
   "cell_type": "code",
   "execution_count": 40,
   "id": "e28917dc",
   "metadata": {},
   "outputs": [],
   "source": [
    "ice_cream_dict = {'name': 'Alex', 'weekely intake': 5, 'favorite ice creams': ['MCC', 'Chocolate']}"
   ]
  },
  {
   "cell_type": "code",
   "execution_count": 41,
   "id": "4927ca77",
   "metadata": {},
   "outputs": [
    {
     "data": {
      "text/plain": [
       "{'name': 'Alex',\n",
       " 'weekely intake': 5,\n",
       " 'favorite ice creams': ['MCC', 'Chocolate']}"
      ]
     },
     "execution_count": 41,
     "metadata": {},
     "output_type": "execute_result"
    }
   ],
   "source": [
    "ice_cream_dict"
   ]
  },
  {
   "cell_type": "code",
   "execution_count": 48,
   "id": "2d47b15e",
   "metadata": {},
   "outputs": [
    {
     "name": "stdout",
     "output_type": "stream",
     "text": [
      "Alex\n",
      "5\n",
      "['MCC', 'Chocolate']\n"
     ]
    }
   ],
   "source": [
    "for cream in ice_cream_dict.values():\n",
    "    print(cream)"
   ]
  },
  {
   "cell_type": "code",
   "execution_count": 49,
   "id": "4b700f9e",
   "metadata": {},
   "outputs": [
    {
     "name": "stdout",
     "output_type": "stream",
     "text": [
      "name -> values\n",
      "weekely intake -> values\n",
      "favorite ice creams -> values\n"
     ]
    }
   ],
   "source": [
    "for key, values in ice_cream_dict.items():\n",
    "    print(key, '->','values')"
   ]
  },
  {
   "cell_type": "markdown",
   "id": "612b14ed",
   "metadata": {},
   "source": [
    "# Nested For Loops"
   ]
  },
  {
   "cell_type": "code",
   "execution_count": 52,
   "id": "bbd1c463",
   "metadata": {},
   "outputs": [],
   "source": [
    "flavors = ['Vanilla', 'Chocolate', \"MCC\"]\n",
    "toppings = ['Hot fudge', 'Marshmallows', 'Oreos']"
   ]
  },
  {
   "cell_type": "code",
   "execution_count": 53,
   "id": "c10ae528",
   "metadata": {},
   "outputs": [
    {
     "name": "stdout",
     "output_type": "stream",
     "text": [
      "Vanilla topped with Hot fudge\n",
      "Vanilla topped with Marshmallows\n",
      "Vanilla topped with Oreos\n",
      "Chocolate topped with Hot fudge\n",
      "Chocolate topped with Marshmallows\n",
      "Chocolate topped with Oreos\n",
      "MCC topped with Hot fudge\n",
      "MCC topped with Marshmallows\n",
      "MCC topped with Oreos\n"
     ]
    }
   ],
   "source": [
    "for one in flavors:\n",
    "    for two in toppings:\n",
    "        print(one, 'topped with', two)"
   ]
  },
  {
   "cell_type": "markdown",
   "id": "477ff1eb",
   "metadata": {},
   "source": [
    "# while loop"
   ]
  },
  {
   "cell_type": "code",
   "execution_count": 57,
   "id": "88b2adab",
   "metadata": {},
   "outputs": [
    {
     "name": "stdout",
     "output_type": "stream",
     "text": [
      "0\n",
      "1\n",
      "2\n",
      "3\n",
      "4\n"
     ]
    }
   ],
   "source": [
    "number = 0\n",
    "\n",
    "while number < 5 :\n",
    "    print(number)\n",
    "    number = number + 1\n",
    "    "
   ]
  },
  {
   "cell_type": "code",
   "execution_count": 63,
   "id": "fcd9798d",
   "metadata": {},
   "outputs": [
    {
     "name": "stdout",
     "output_type": "stream",
     "text": [
      "0\n",
      "1\n",
      "2\n",
      "3\n"
     ]
    }
   ],
   "source": [
    "# using break to exit from the loop\n",
    "number = 0\n",
    "\n",
    "while number < 5 :\n",
    "    print(number)\n",
    "    if number == 3:\n",
    "        break\n",
    "    number = number + 1"
   ]
  },
  {
   "cell_type": "code",
   "execution_count": 60,
   "id": "6d0aba64",
   "metadata": {},
   "outputs": [
    {
     "name": "stdout",
     "output_type": "stream",
     "text": [
      "0\n",
      "1\n",
      "2\n",
      "3\n"
     ]
    }
   ],
   "source": [
    "number = 0\n",
    "\n",
    "while number < 5 :\n",
    "    print(number)\n",
    "    if number == 3:\n",
    "        break\n",
    "    number = number + 1\n",
    "else:\n",
    "    print(\"no longer less than 5\")"
   ]
  },
  {
   "cell_type": "code",
   "execution_count": 62,
   "id": "c48317e3",
   "metadata": {},
   "outputs": [
    {
     "name": "stdout",
     "output_type": "stream",
     "text": [
      "1\n",
      "2\n",
      "4\n",
      "5\n",
      "no longer less than 5\n"
     ]
    }
   ],
   "source": [
    "# using continue to stop the current loop at that point and run for next item \n",
    "# it stops working the code below the continue\n",
    "number = 0\n",
    "\n",
    "while number < 5 :\n",
    "    number = number + 1\n",
    "    if number == 3:\n",
    "        continue\n",
    "    print(number)\n",
    "else:\n",
    "    print(\"no longer less than 5\")"
   ]
  },
  {
   "cell_type": "markdown",
   "id": "791eeab2",
   "metadata": {},
   "source": [
    "# Functions"
   ]
  },
  {
   "cell_type": "code",
   "execution_count": 64,
   "id": "2ca2ad6a",
   "metadata": {},
   "outputs": [],
   "source": [
    "def function():\n",
    "    print(\"My first Function\")"
   ]
  },
  {
   "cell_type": "code",
   "execution_count": 65,
   "id": "332844c8",
   "metadata": {},
   "outputs": [
    {
     "name": "stdout",
     "output_type": "stream",
     "text": [
      "My first Function\n"
     ]
    }
   ],
   "source": [
    "function()"
   ]
  },
  {
   "cell_type": "code",
   "execution_count": 69,
   "id": "7a82232d",
   "metadata": {},
   "outputs": [],
   "source": [
    "def func(a):\n",
    "    print(a, \"banana\")"
   ]
  },
  {
   "cell_type": "code",
   "execution_count": 70,
   "id": "10888466",
   "metadata": {},
   "outputs": [
    {
     "name": "stdout",
     "output_type": "stream",
     "text": [
      "apple banana\n"
     ]
    }
   ],
   "source": [
    "func(\"apple\")"
   ]
  },
  {
   "cell_type": "code",
   "execution_count": 75,
   "id": "f2da9d74",
   "metadata": {},
   "outputs": [],
   "source": [
    "def num_square(num,power):\n",
    "    print(num**power)"
   ]
  },
  {
   "cell_type": "code",
   "execution_count": 77,
   "id": "50952631",
   "metadata": {},
   "outputs": [
    {
     "name": "stdout",
     "output_type": "stream",
     "text": [
      "125\n"
     ]
    }
   ],
   "source": [
    "num_square(5,3)"
   ]
  },
  {
   "cell_type": "code",
   "execution_count": 82,
   "id": "fa1339d1",
   "metadata": {},
   "outputs": [],
   "source": [
    "#arbetary Argument\n",
    "\n",
    "arg_tuple = (5,6,1,2)\n",
    "def number_arg(*number):\n",
    "    print(number[0]*number[1])\n",
    "    "
   ]
  },
  {
   "cell_type": "code",
   "execution_count": 85,
   "id": "3fdae1a8",
   "metadata": {},
   "outputs": [
    {
     "name": "stdout",
     "output_type": "stream",
     "text": [
      "30\n"
     ]
    }
   ],
   "source": [
    "number_arg(*arg_tuple)"
   ]
  },
  {
   "cell_type": "code",
   "execution_count": 88,
   "id": "23c66e45",
   "metadata": {},
   "outputs": [],
   "source": [
    "def num_square(number,power):\n",
    "    print(number**power)"
   ]
  },
  {
   "cell_type": "code",
   "execution_count": 91,
   "id": "97ad6643",
   "metadata": {},
   "outputs": [
    {
     "name": "stdout",
     "output_type": "stream",
     "text": [
      "243\n"
     ]
    }
   ],
   "source": [
    "num_square(power = 5,number = 3)"
   ]
  },
  {
   "cell_type": "code",
   "execution_count": 99,
   "id": "757fb30d",
   "metadata": {},
   "outputs": [],
   "source": [
    "#keyboard Argument\n",
    "\n",
    "def number_kwarg(**number):\n",
    "    print('My number is:' + number['integer'] + ' My other number:' + number['integer2'])\n",
    "    "
   ]
  },
  {
   "cell_type": "code",
   "execution_count": 100,
   "id": "983480da",
   "metadata": {},
   "outputs": [
    {
     "name": "stdout",
     "output_type": "stream",
     "text": [
      "My number is:2309 My other number:1234\n"
     ]
    }
   ],
   "source": [
    "number_kwarg(integer = '2309', integer2 = \"1234\")"
   ]
  },
  {
   "cell_type": "markdown",
   "id": "542a2338",
   "metadata": {},
   "source": [
    "# converting Data Types"
   ]
  },
  {
   "cell_type": "code",
   "execution_count": 102,
   "id": "466db978",
   "metadata": {},
   "outputs": [
    {
     "data": {
      "text/plain": [
       "int"
      ]
     },
     "execution_count": 102,
     "metadata": {},
     "output_type": "execute_result"
    }
   ],
   "source": [
    "num_int = 7\n",
    "\n",
    "type(num_int)"
   ]
  },
  {
   "cell_type": "code",
   "execution_count": null,
   "id": "61c80e5c",
   "metadata": {},
   "outputs": [],
   "source": []
  },
  {
   "cell_type": "code",
   "execution_count": 109,
   "id": "be5bd9c5",
   "metadata": {},
   "outputs": [
    {
     "data": {
      "text/plain": [
       "str"
      ]
     },
     "execution_count": 109,
     "metadata": {},
     "output_type": "execute_result"
    }
   ],
   "source": [
    "num_str ='7'\n",
    "\n",
    "type(num_str)"
   ]
  },
  {
   "cell_type": "code",
   "execution_count": 112,
   "id": "0d512f95",
   "metadata": {},
   "outputs": [
    {
     "data": {
      "text/plain": [
       "int"
      ]
     },
     "execution_count": 112,
     "metadata": {},
     "output_type": "execute_result"
    }
   ],
   "source": [
    "num_str_conv = int(num_str)\n",
    "\n",
    "type(num_str_conv)\n"
   ]
  },
  {
   "cell_type": "code",
   "execution_count": 115,
   "id": "73a50e99",
   "metadata": {},
   "outputs": [
    {
     "name": "stdout",
     "output_type": "stream",
     "text": [
      "14\n"
     ]
    }
   ],
   "source": [
    "num_sum = num_int + num_str_conv\n",
    "\n",
    "print(num_sum)"
   ]
  },
  {
   "cell_type": "code",
   "execution_count": 116,
   "id": "faeadc6e",
   "metadata": {},
   "outputs": [
    {
     "data": {
      "text/plain": [
       "list"
      ]
     },
     "execution_count": 116,
     "metadata": {},
     "output_type": "execute_result"
    }
   ],
   "source": [
    "list_type = [1,2,3]\n",
    "\n",
    "type(list_type)\n"
   ]
  },
  {
   "cell_type": "code",
   "execution_count": 117,
   "id": "2e238d7e",
   "metadata": {},
   "outputs": [
    {
     "data": {
      "text/plain": [
       "(1, 2, 3)"
      ]
     },
     "execution_count": 117,
     "metadata": {},
     "output_type": "execute_result"
    }
   ],
   "source": [
    "tuple(list_type)"
   ]
  },
  {
   "cell_type": "code",
   "execution_count": 118,
   "id": "c8b694cf",
   "metadata": {},
   "outputs": [
    {
     "data": {
      "text/plain": [
       "{1, 2, 3, 4, 5, 6}"
      ]
     },
     "execution_count": 118,
     "metadata": {},
     "output_type": "execute_result"
    }
   ],
   "source": [
    "list_type = [1,2,3,3,4,5,6,1]\n",
    "\n",
    "set(list_type)\n"
   ]
  },
  {
   "cell_type": "code",
   "execution_count": 119,
   "id": "7ba1bf7c",
   "metadata": {},
   "outputs": [
    {
     "data": {
      "text/plain": [
       "set"
      ]
     },
     "execution_count": 119,
     "metadata": {},
     "output_type": "execute_result"
    }
   ],
   "source": [
    "type(set(list_type))"
   ]
  },
  {
   "cell_type": "code",
   "execution_count": 120,
   "id": "24cd465c",
   "metadata": {},
   "outputs": [],
   "source": [
    "dict_type = {'name' : 'Alex', 'age': 28, 'hair': 'N/A'}"
   ]
  },
  {
   "cell_type": "code",
   "execution_count": 121,
   "id": "797e5c2a",
   "metadata": {},
   "outputs": [
    {
     "data": {
      "text/plain": [
       "dict"
      ]
     },
     "execution_count": 121,
     "metadata": {},
     "output_type": "execute_result"
    }
   ],
   "source": [
    "type(dict_type)"
   ]
  },
  {
   "cell_type": "code",
   "execution_count": 124,
   "id": "7d44fc74",
   "metadata": {},
   "outputs": [
    {
     "data": {
      "text/plain": [
       "dict_items([('name', 'Alex'), ('age', 28), ('hair', 'N/A')])"
      ]
     },
     "execution_count": 124,
     "metadata": {},
     "output_type": "execute_result"
    }
   ],
   "source": [
    "dict_type.items()"
   ]
  },
  {
   "cell_type": "code",
   "execution_count": 125,
   "id": "b71126c2",
   "metadata": {},
   "outputs": [
    {
     "data": {
      "text/plain": [
       "dict_keys(['name', 'age', 'hair'])"
      ]
     },
     "execution_count": 125,
     "metadata": {},
     "output_type": "execute_result"
    }
   ],
   "source": [
    "dict_type.keys()"
   ]
  },
  {
   "cell_type": "code",
   "execution_count": 126,
   "id": "28417bca",
   "metadata": {},
   "outputs": [
    {
     "data": {
      "text/plain": [
       "dict_values(['Alex', 28, 'N/A'])"
      ]
     },
     "execution_count": 126,
     "metadata": {},
     "output_type": "execute_result"
    }
   ],
   "source": [
    "dict_type.values()"
   ]
  },
  {
   "cell_type": "code",
   "execution_count": 127,
   "id": "e268c8f3",
   "metadata": {},
   "outputs": [
    {
     "data": {
      "text/plain": [
       "['name', 'age', 'hair']"
      ]
     },
     "execution_count": 127,
     "metadata": {},
     "output_type": "execute_result"
    }
   ],
   "source": [
    "list(dict_type.keys())"
   ]
  },
  {
   "cell_type": "code",
   "execution_count": 128,
   "id": "43fc8ea6",
   "metadata": {},
   "outputs": [
    {
     "data": {
      "text/plain": [
       "list"
      ]
     },
     "execution_count": 128,
     "metadata": {},
     "output_type": "execute_result"
    }
   ],
   "source": [
    "type(list(dict_type.keys()))"
   ]
  },
  {
   "cell_type": "code",
   "execution_count": 131,
   "id": "52be61a9",
   "metadata": {},
   "outputs": [
    {
     "data": {
      "text/plain": [
       "['I', ' ', 'l', 'i', 'k', 'e', ' ', 't', 'o', ' ', 'P', 'a', 'r', 't', 'y']"
      ]
     },
     "execution_count": 131,
     "metadata": {},
     "output_type": "execute_result"
    }
   ],
   "source": [
    "long_str = \"I like to Party\"\n",
    "\n",
    "list(long_str)"
   ]
  },
  {
   "cell_type": "markdown",
   "id": "765b37b8",
   "metadata": {},
   "source": [
    "# The End"
   ]
  }
 ],
 "metadata": {
  "kernelspec": {
   "display_name": "Python 3 (ipykernel)",
   "language": "python",
   "name": "python3"
  },
  "language_info": {
   "codemirror_mode": {
    "name": "ipython",
    "version": 3
   },
   "file_extension": ".py",
   "mimetype": "text/x-python",
   "name": "python",
   "nbconvert_exporter": "python",
   "pygments_lexer": "ipython3",
   "version": "3.11.3"
  }
 },
 "nbformat": 4,
 "nbformat_minor": 5
}
