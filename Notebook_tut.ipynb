{
 "cells": [
  {
   "cell_type": "markdown",
   "id": "2c1638bd",
   "metadata": {},
   "source": [
    "# Python Basics"
   ]
  },
  {
   "cell_type": "markdown",
   "id": "141188c6",
   "metadata": {},
   "source": [
    "# Variables"
   ]
  },
  {
   "cell_type": "code",
   "execution_count": 6,
   "id": "191a20de",
   "metadata": {},
   "outputs": [
    {
     "name": "stdout",
     "output_type": "stream",
     "text": [
      "22\n"
     ]
    }
   ],
   "source": [
    "x = 22\n",
    "\n",
    "print(x)"
   ]
  },
  {
   "cell_type": "code",
   "execution_count": 7,
   "id": "a2685491",
   "metadata": {},
   "outputs": [
    {
     "data": {
      "text/plain": [
       "int"
      ]
     },
     "execution_count": 7,
     "metadata": {},
     "output_type": "execute_result"
    }
   ],
   "source": [
    "type(x)"
   ]
  },
  {
   "cell_type": "code",
   "execution_count": 8,
   "id": "6e41b652",
   "metadata": {},
   "outputs": [
    {
     "name": "stdout",
     "output_type": "stream",
     "text": [
      "Mint Chocolate Chip\n"
     ]
    }
   ],
   "source": [
    "y = \"Mint Chocolate Chip\"\n",
    "\n",
    "print(y)"
   ]
  },
  {
   "cell_type": "code",
   "execution_count": 9,
   "id": "1101854f",
   "metadata": {},
   "outputs": [
    {
     "data": {
      "text/plain": [
       "str"
      ]
     },
     "execution_count": 9,
     "metadata": {},
     "output_type": "execute_result"
    }
   ],
   "source": [
    "type(y)"
   ]
  },
  {
   "cell_type": "code",
   "execution_count": 13,
   "id": "f7e14a6c",
   "metadata": {},
   "outputs": [
    {
     "name": "stdout",
     "output_type": "stream",
     "text": [
      "Chocolate\n",
      "Mint Chocolate Chip\n"
     ]
    }
   ],
   "source": [
    "y = \"Chocolate\"\n",
    "Y = \"Mint Chocolate Chip\"\n",
    "\n",
    "\n",
    "print(y)\n",
    "print(Y)"
   ]
  },
  {
   "cell_type": "code",
   "execution_count": 15,
   "id": "ff064aa2",
   "metadata": {},
   "outputs": [],
   "source": [
    "x,y,z = 4 , \"apple\", True"
   ]
  },
  {
   "cell_type": "code",
   "execution_count": 16,
   "id": "33463548",
   "metadata": {},
   "outputs": [
    {
     "name": "stdout",
     "output_type": "stream",
     "text": [
      "4 apple True\n"
     ]
    }
   ],
   "source": [
    "print(x,y,z)"
   ]
  },
  {
   "cell_type": "code",
   "execution_count": 18,
   "id": "bf7416c6",
   "metadata": {},
   "outputs": [
    {
     "name": "stdout",
     "output_type": "stream",
     "text": [
      "Nice\n"
     ]
    }
   ],
   "source": [
    "x = y = z = \"Nice\"\n",
    "\n",
    "print(x)"
   ]
  },
  {
   "cell_type": "code",
   "execution_count": 23,
   "id": "5ef2e8e3",
   "metadata": {},
   "outputs": [
    {
     "name": "stdout",
     "output_type": "stream",
     "text": [
      "['chocolate', 'Vanilla', 'Rocky Road']\n",
      "Vanilla\n"
     ]
    }
   ],
   "source": [
    "#list\n",
    "ice_cream = [\"chocolate\",\"Vanilla\", \"Rocky Road\"]\n",
    "\n",
    "print(ice_cream)\n",
    "\n",
    "x,y,z = ice_cream\n",
    "\n",
    "print(y)"
   ]
  },
  {
   "cell_type": "markdown",
   "id": "a591a99c",
   "metadata": {},
   "source": [
    "# Naming Variable"
   ]
  },
  {
   "cell_type": "code",
   "execution_count": 27,
   "id": "757b71b6",
   "metadata": {},
   "outputs": [],
   "source": [
    "# Camel Case\n",
    "\n",
    "# Test variable case\n",
    "\n",
    "testVariableCase = \"Vanilla Swirl\""
   ]
  },
  {
   "cell_type": "code",
   "execution_count": 26,
   "id": "764ff259",
   "metadata": {},
   "outputs": [],
   "source": [
    "# Pascal Case\n",
    "\n",
    "# Test Variable Case\n",
    "\n",
    "TestVariableCase = \"Vanilla Swirl\""
   ]
  },
  {
   "cell_type": "code",
   "execution_count": 25,
   "id": "2df97401",
   "metadata": {},
   "outputs": [],
   "source": [
    "# Snake Case\n",
    "\n",
    "# Test Variable Case\n",
    "\n",
    "test_variable_case = \"Vanilla Swirl\""
   ]
  },
  {
   "cell_type": "code",
   "execution_count": null,
   "id": "1e0da35d",
   "metadata": {},
   "outputs": [],
   "source": [
    "testvar = \"Vanilla Swirl\"\n",
    "test_var = \"Vanilla Swirl\"\n",
    "_test_var = \"Vanilla Swirl\"\n",
    "testVar = \"Vanilla Swirl\"\n",
    "TestVar = \"Vanilla Swirl\"\n",
    "testvar2 = \"Vanilla Swirl\""
   ]
  },
  {
   "cell_type": "code",
   "execution_count": 30,
   "id": "3f3ad5a8",
   "metadata": {},
   "outputs": [],
   "source": [
    "# cant use\n",
    "\n",
    "# 2testvar = \"Vanilla Swirl\"\n",
    "# test-var = \"Vanilla Swirl\"\n",
    "# test var = \"Vanilla Swirl\"\n",
    "# test,var = \"Vanilla Swirl\""
   ]
  },
  {
   "cell_type": "code",
   "execution_count": 31,
   "id": "d0e6f552",
   "metadata": {},
   "outputs": [
    {
     "name": "stdout",
     "output_type": "stream",
     "text": [
      "ice cream is my favorite.\n"
     ]
    }
   ],
   "source": [
    "x = 'ice cream is my favorite' + \".\"\n",
    "\n",
    "print(x)"
   ]
  },
  {
   "cell_type": "code",
   "execution_count": 33,
   "id": "e434bfd8",
   "metadata": {},
   "outputs": [],
   "source": [
    "#  cant use\n",
    "## x = 'ice cream is my favorite' + 2\n",
    "\n",
    "## print(x)"
   ]
  },
  {
   "cell_type": "code",
   "execution_count": 35,
   "id": "f34562b6",
   "metadata": {},
   "outputs": [
    {
     "name": "stdout",
     "output_type": "stream",
     "text": [
      "ice cream is my favorite.\n"
     ]
    }
   ],
   "source": [
    "x = \"ice cream\"\n",
    "y =\" is\"\n",
    "z = \" my favorite.\"\n",
    "\n",
    "print(x+y+z)"
   ]
  },
  {
   "cell_type": "code",
   "execution_count": 36,
   "id": "591dd42b",
   "metadata": {},
   "outputs": [
    {
     "name": "stdout",
     "output_type": "stream",
     "text": [
      "6\n"
     ]
    }
   ],
   "source": [
    "x = 1\n",
    "y = 2\n",
    "z = 3\n",
    "\n",
    "print(x+y+z)"
   ]
  },
  {
   "cell_type": "markdown",
   "id": "c1673c3d",
   "metadata": {},
   "source": [
    "# Data Types"
   ]
  },
  {
   "cell_type": "code",
   "execution_count": 42,
   "id": "80ae3a8e",
   "metadata": {},
   "outputs": [
    {
     "data": {
      "text/plain": [
       "int"
      ]
     },
     "execution_count": 42,
     "metadata": {},
     "output_type": "execute_result"
    }
   ],
   "source": [
    "type(12)\n",
    "type(-12 +23)"
   ]
  },
  {
   "cell_type": "code",
   "execution_count": 43,
   "id": "3c1c6634",
   "metadata": {},
   "outputs": [
    {
     "data": {
      "text/plain": [
       "float"
      ]
     },
     "execution_count": 43,
     "metadata": {},
     "output_type": "execute_result"
    }
   ],
   "source": [
    "type(-12 + 10.25)"
   ]
  },
  {
   "cell_type": "code",
   "execution_count": 44,
   "id": "f650209b",
   "metadata": {},
   "outputs": [
    {
     "data": {
      "text/plain": [
       "complex"
      ]
     },
     "execution_count": 44,
     "metadata": {},
     "output_type": "execute_result"
    }
   ],
   "source": [
    "type(-12 + 3j)"
   ]
  },
  {
   "cell_type": "code",
   "execution_count": 48,
   "id": "77dfa8dc",
   "metadata": {},
   "outputs": [
    {
     "data": {
      "text/plain": [
       "bool"
      ]
     },
     "execution_count": 48,
     "metadata": {},
     "output_type": "execute_result"
    }
   ],
   "source": [
    "#Boolean\n",
    "\n",
    "type(True)"
   ]
  },
  {
   "cell_type": "code",
   "execution_count": 49,
   "id": "cf5474f7",
   "metadata": {},
   "outputs": [
    {
     "data": {
      "text/plain": [
       "False"
      ]
     },
     "execution_count": 49,
     "metadata": {},
     "output_type": "execute_result"
    }
   ],
   "source": [
    "1 > 5"
   ]
  },
  {
   "cell_type": "code",
   "execution_count": 51,
   "id": "1ce095c8",
   "metadata": {},
   "outputs": [
    {
     "data": {
      "text/plain": [
       "True"
      ]
     },
     "execution_count": 51,
     "metadata": {},
     "output_type": "execute_result"
    }
   ],
   "source": [
    "1 == 1"
   ]
  },
  {
   "cell_type": "code",
   "execution_count": 53,
   "id": "3b7fe87d",
   "metadata": {},
   "outputs": [
    {
     "data": {
      "text/plain": [
       "'Single Quote'"
      ]
     },
     "execution_count": 53,
     "metadata": {},
     "output_type": "execute_result"
    }
   ],
   "source": [
    "# Strings\n",
    "\n",
    "'Single Quote'"
   ]
  },
  {
   "cell_type": "code",
   "execution_count": 54,
   "id": "2775dc3e",
   "metadata": {},
   "outputs": [
    {
     "data": {
      "text/plain": [
       "'Double Quote'"
      ]
     },
     "execution_count": 54,
     "metadata": {},
     "output_type": "execute_result"
    }
   ],
   "source": [
    "\"Double Quote\""
   ]
  },
  {
   "cell_type": "code",
   "execution_count": 62,
   "id": "17e6e5f6",
   "metadata": {},
   "outputs": [
    {
     "data": {
      "text/plain": [
       "'\\nThis is the multi line\\nquote triple quote.\\n'"
      ]
     },
     "execution_count": 62,
     "metadata": {},
     "output_type": "execute_result"
    }
   ],
   "source": [
    "\"\"\"\n",
    "This is the multi line\n",
    "quote triple quote.\n",
    "\"\"\""
   ]
  },
  {
   "cell_type": "code",
   "execution_count": 63,
   "id": "1071d1fe",
   "metadata": {},
   "outputs": [
    {
     "name": "stdout",
     "output_type": "stream",
     "text": [
      "\n",
      "This is the multi line\n",
      "quote triple quote.\n",
      "\n"
     ]
    }
   ],
   "source": [
    "multiline = \"\"\"\n",
    "This is the multi line\n",
    "quote triple quote.\n",
    "\"\"\"\n",
    "\n",
    "print(multiline)"
   ]
  },
  {
   "cell_type": "code",
   "execution_count": 64,
   "id": "4a882606",
   "metadata": {},
   "outputs": [
    {
     "data": {
      "text/plain": [
       "str"
      ]
     },
     "execution_count": 64,
     "metadata": {},
     "output_type": "execute_result"
    }
   ],
   "source": [
    "type(multiline)"
   ]
  },
  {
   "cell_type": "code",
   "execution_count": 65,
   "id": "741c533b",
   "metadata": {},
   "outputs": [],
   "source": [
    "a = \"Hello World\""
   ]
  },
  {
   "cell_type": "code",
   "execution_count": 73,
   "id": "dc86eebe",
   "metadata": {},
   "outputs": [
    {
     "name": "stdout",
     "output_type": "stream",
     "text": [
      "H\n"
     ]
    }
   ],
   "source": [
    "print(a[0])"
   ]
  },
  {
   "cell_type": "code",
   "execution_count": 66,
   "id": "b255cbf3",
   "metadata": {
    "scrolled": true
   },
   "outputs": [
    {
     "name": "stdout",
     "output_type": "stream",
     "text": [
      "Hello\n"
     ]
    }
   ],
   "source": [
    "print(a[:5])"
   ]
  },
  {
   "cell_type": "code",
   "execution_count": 70,
   "id": "838c990b",
   "metadata": {},
   "outputs": [
    {
     "name": "stdout",
     "output_type": "stream",
     "text": [
      "W\n"
     ]
    }
   ],
   "source": [
    "print(a[6])"
   ]
  },
  {
   "cell_type": "code",
   "execution_count": 72,
   "id": "c6c8d729",
   "metadata": {},
   "outputs": [
    {
     "name": "stdout",
     "output_type": "stream",
     "text": [
      "d\n"
     ]
    }
   ],
   "source": [
    "print(a[-1])"
   ]
  },
  {
   "cell_type": "code",
   "execution_count": 74,
   "id": "a6b20423",
   "metadata": {},
   "outputs": [
    {
     "name": "stdout",
     "output_type": "stream",
     "text": [
      "llo\n"
     ]
    }
   ],
   "source": [
    "print(a[2:5])"
   ]
  },
  {
   "cell_type": "code",
   "execution_count": 75,
   "id": "0d656470",
   "metadata": {},
   "outputs": [
    {
     "data": {
      "text/plain": [
       "'Hello WorldHello WorldHello World'"
      ]
     },
     "execution_count": 75,
     "metadata": {},
     "output_type": "execute_result"
    }
   ],
   "source": [
    "a*3"
   ]
  },
  {
   "cell_type": "code",
   "execution_count": 76,
   "id": "b0be7c27",
   "metadata": {},
   "outputs": [
    {
     "data": {
      "text/plain": [
       "'Hello WorldHello World'"
      ]
     },
     "execution_count": 76,
     "metadata": {},
     "output_type": "execute_result"
    }
   ],
   "source": [
    "a + a"
   ]
  },
  {
   "cell_type": "code",
   "execution_count": 81,
   "id": "7a1b456e",
   "metadata": {},
   "outputs": [
    {
     "data": {
      "text/plain": [
       "list"
      ]
     },
     "execution_count": 81,
     "metadata": {},
     "output_type": "execute_result"
    }
   ],
   "source": [
    "#list\n",
    "\n",
    "[1,2,3]\n",
    "\n",
    "a = [1,2,3]\n",
    "type(a)"
   ]
  },
  {
   "cell_type": "code",
   "execution_count": 78,
   "id": "5b6a3ebe",
   "metadata": {},
   "outputs": [
    {
     "data": {
      "text/plain": [
       "['Cookie Dough', 'Strawberry', ' Chocolate']"
      ]
     },
     "execution_count": 78,
     "metadata": {},
     "output_type": "execute_result"
    }
   ],
   "source": [
    "['Cookie Dough', 'Strawberry', ' Chocolate']"
   ]
  },
  {
   "cell_type": "code",
   "execution_count": 79,
   "id": "62bdabce",
   "metadata": {},
   "outputs": [
    {
     "data": {
      "text/plain": [
       "['Vanilla', 3, ['Scoops', 'Spoon'], True]"
      ]
     },
     "execution_count": 79,
     "metadata": {},
     "output_type": "execute_result"
    }
   ],
   "source": [
    "['Vanilla', 3 , ['Scoops', 'Spoon'], True]"
   ]
  },
  {
   "cell_type": "code",
   "execution_count": 83,
   "id": "38f24a16",
   "metadata": {},
   "outputs": [
    {
     "data": {
      "text/plain": [
       "['Cookie Dough', 'Strawberry', ' Chocolate', 'Salted Caramel']"
      ]
     },
     "execution_count": 83,
     "metadata": {},
     "output_type": "execute_result"
    }
   ],
   "source": [
    "#Manipulating List\n",
    "\n",
    "ice_cream = ['Cookie Dough', 'Strawberry', ' Chocolate']\n",
    "ice_cream.append('Salted Caramel')\n",
    "\n",
    "ice_cream"
   ]
  },
  {
   "cell_type": "code",
   "execution_count": 84,
   "id": "372024d2",
   "metadata": {},
   "outputs": [],
   "source": [
    "ice_cream[0] = 'Butter Pecan'"
   ]
  },
  {
   "cell_type": "code",
   "execution_count": 85,
   "id": "fd55ec40",
   "metadata": {},
   "outputs": [
    {
     "data": {
      "text/plain": [
       "['Butter Pecan', 'Strawberry', ' Chocolate', 'Salted Caramel']"
      ]
     },
     "execution_count": 85,
     "metadata": {},
     "output_type": "execute_result"
    }
   ],
   "source": [
    "ice_cream"
   ]
  },
  {
   "cell_type": "code",
   "execution_count": 92,
   "id": "1aa6a946",
   "metadata": {},
   "outputs": [
    {
     "data": {
      "text/plain": [
       "'Spoon'"
      ]
     },
     "execution_count": 92,
     "metadata": {},
     "output_type": "execute_result"
    }
   ],
   "source": [
    "# Nested List\n",
    "\n",
    "nested_list = ['Vanilla', 3 , ['Scoops', 'Spoon'], True]\n",
    "\n",
    "nested_list[2][1]"
   ]
  },
  {
   "cell_type": "code",
   "execution_count": 93,
   "id": "6cc84e64",
   "metadata": {},
   "outputs": [],
   "source": [
    "# Tuple\n",
    "\n",
    "# it cannot be changed or modified after it created\n",
    "\n",
    "tuple_scoops = (1,2,3,2,1)"
   ]
  },
  {
   "cell_type": "code",
   "execution_count": 96,
   "id": "cbbd8b28",
   "metadata": {},
   "outputs": [
    {
     "data": {
      "text/plain": [
       "tuple"
      ]
     },
     "execution_count": 96,
     "metadata": {},
     "output_type": "execute_result"
    }
   ],
   "source": [
    "type(tuple_scoops)"
   ]
  },
  {
   "cell_type": "code",
   "execution_count": 97,
   "id": "4d265d5b",
   "metadata": {},
   "outputs": [
    {
     "data": {
      "text/plain": [
       "2"
      ]
     },
     "execution_count": 97,
     "metadata": {},
     "output_type": "execute_result"
    }
   ],
   "source": [
    "tuple_scoops[1]"
   ]
  },
  {
   "cell_type": "code",
   "execution_count": 119,
   "id": "61929649",
   "metadata": {},
   "outputs": [],
   "source": [
    "# sets\n",
    "\n",
    "# cannot acces set through index\n",
    "\n",
    "daily_pints = {1,2,3}\n"
   ]
  },
  {
   "cell_type": "code",
   "execution_count": 116,
   "id": "76f45780",
   "metadata": {},
   "outputs": [
    {
     "data": {
      "text/plain": [
       "set"
      ]
     },
     "execution_count": 116,
     "metadata": {},
     "output_type": "execute_result"
    }
   ],
   "source": [
    "type(daily_pints)"
   ]
  },
  {
   "cell_type": "code",
   "execution_count": 118,
   "id": "b2ea38b4",
   "metadata": {},
   "outputs": [
    {
     "name": "stdout",
     "output_type": "stream",
     "text": [
      "{1, 2, 3}\n"
     ]
    }
   ],
   "source": [
    "print(daily_pints)"
   ]
  },
  {
   "cell_type": "code",
   "execution_count": 110,
   "id": "761b330a",
   "metadata": {},
   "outputs": [
    {
     "name": "stdout",
     "output_type": "stream",
     "text": [
      "{32, 1, 2, 33, 4, 5, 7, 44}\n"
     ]
    }
   ],
   "source": [
    "daily_pints_logs = {1,2,32,4,5,7,44,33,44,5}\n",
    "print(daily_pints_logs)"
   ]
  },
  {
   "cell_type": "code",
   "execution_count": 113,
   "id": "bdf67bd5",
   "metadata": {},
   "outputs": [],
   "source": [
    "wifes_daily_pints_logs = {1,2,4,5,55,4,33,69}"
   ]
  },
  {
   "cell_type": "code",
   "execution_count": 114,
   "id": "d11a4007",
   "metadata": {},
   "outputs": [
    {
     "name": "stdout",
     "output_type": "stream",
     "text": [
      "{32, 1, 2, 33, 4, 5, 69, 7, 44, 55}\n"
     ]
    }
   ],
   "source": [
    "print(daily_pints_logs | wifes_daily_pints_logs)"
   ]
  },
  {
   "cell_type": "code",
   "execution_count": 120,
   "id": "b41715ed",
   "metadata": {},
   "outputs": [
    {
     "name": "stdout",
     "output_type": "stream",
     "text": [
      "{1, 2, 33, 4, 5}\n"
     ]
    }
   ],
   "source": [
    "print(daily_pints_logs & wifes_daily_pints_logs)"
   ]
  },
  {
   "cell_type": "code",
   "execution_count": 121,
   "id": "e7e0e8d0",
   "metadata": {},
   "outputs": [
    {
     "name": "stdout",
     "output_type": "stream",
     "text": [
      "{32, 44, 7}\n"
     ]
    }
   ],
   "source": [
    "print(daily_pints_logs - wifes_daily_pints_logs)"
   ]
  },
  {
   "cell_type": "code",
   "execution_count": 122,
   "id": "27a5632a",
   "metadata": {},
   "outputs": [
    {
     "name": "stdout",
     "output_type": "stream",
     "text": [
      "{32, 69, 7, 44, 55}\n"
     ]
    }
   ],
   "source": [
    "print(daily_pints_logs ^ wifes_daily_pints_logs)"
   ]
  },
  {
   "cell_type": "code",
   "execution_count": 123,
   "id": "664b5b96",
   "metadata": {},
   "outputs": [],
   "source": [
    "#Dictionaries\n",
    "\n",
    "# Key/ Value Pair\n",
    "\n",
    "dict_cream = {'name': 'Alex', 'weekly intake': 5, 'favorite ice cream': ['MCC', 'Strawberry', 'Chocolate']}\n"
   ]
  },
  {
   "cell_type": "code",
   "execution_count": 125,
   "id": "5810522c",
   "metadata": {},
   "outputs": [
    {
     "data": {
      "text/plain": [
       "dict"
      ]
     },
     "execution_count": 125,
     "metadata": {},
     "output_type": "execute_result"
    }
   ],
   "source": [
    "type(dict_cream)"
   ]
  },
  {
   "cell_type": "code",
   "execution_count": 126,
   "id": "d1414ff0",
   "metadata": {},
   "outputs": [
    {
     "name": "stdout",
     "output_type": "stream",
     "text": [
      "{'name': 'Alex', 'weekly intake': 5, 'favorite ice cream': ['MCC', 'Strawberry', 'Chocolate']}\n"
     ]
    }
   ],
   "source": [
    "print(dict_cream)"
   ]
  },
  {
   "cell_type": "code",
   "execution_count": 128,
   "id": "a41192df",
   "metadata": {},
   "outputs": [
    {
     "data": {
      "text/plain": [
       "dict_values(['Alex', 5, ['MCC', 'Strawberry', 'Chocolate']])"
      ]
     },
     "execution_count": 128,
     "metadata": {},
     "output_type": "execute_result"
    }
   ],
   "source": [
    "dict_cream.values()"
   ]
  },
  {
   "cell_type": "code",
   "execution_count": 129,
   "id": "7fbd1d2e",
   "metadata": {},
   "outputs": [
    {
     "data": {
      "text/plain": [
       "dict_keys(['name', 'weekly intake', 'favorite ice cream'])"
      ]
     },
     "execution_count": 129,
     "metadata": {},
     "output_type": "execute_result"
    }
   ],
   "source": [
    "dict_cream.keys()"
   ]
  },
  {
   "cell_type": "code",
   "execution_count": 130,
   "id": "9dce7e24",
   "metadata": {},
   "outputs": [
    {
     "data": {
      "text/plain": [
       "dict_items([('name', 'Alex'), ('weekly intake', 5), ('favorite ice cream', ['MCC', 'Strawberry', 'Chocolate'])])"
      ]
     },
     "execution_count": 130,
     "metadata": {},
     "output_type": "execute_result"
    }
   ],
   "source": [
    "dict_cream.items()"
   ]
  },
  {
   "cell_type": "code",
   "execution_count": 140,
   "id": "4337a94a",
   "metadata": {},
   "outputs": [
    {
     "data": {
      "text/plain": [
       "'Strawberry'"
      ]
     },
     "execution_count": 140,
     "metadata": {},
     "output_type": "execute_result"
    }
   ],
   "source": [
    "dict_cream['favorite ice cream'][1]"
   ]
  },
  {
   "cell_type": "code",
   "execution_count": 142,
   "id": "b5d0ab57",
   "metadata": {},
   "outputs": [
    {
     "name": "stdout",
     "output_type": "stream",
     "text": [
      "{'name': 'Christian', 'weekly intake': 5, 'favorite ice cream': ['MCC', 'Strawberry', 'Chocolate']}\n"
     ]
    }
   ],
   "source": [
    "dict_cream['name'] = \"Christian\"\n",
    "\n",
    "print(dict_cream)"
   ]
  },
  {
   "cell_type": "code",
   "execution_count": 144,
   "id": "9955c6a1",
   "metadata": {},
   "outputs": [
    {
     "name": "stdout",
     "output_type": "stream",
     "text": [
      "{'name': 'Christian', 'weekly intake': 5, 'favorite ice cream': ['MCC', 'Strawberry', 'Chocolate'], 'weight': 300}\n"
     ]
    }
   ],
   "source": [
    "dict_cream.update({'name': 'Christian', 'weekly intake': 5, 'weight': 300})\n",
    "\n",
    "print(dict_cream)\n",
    "\n",
    "#update wont delete or replace the dict// it will just update "
   ]
  },
  {
   "cell_type": "code",
   "execution_count": 150,
   "id": "f83f9df6",
   "metadata": {},
   "outputs": [
    {
     "name": "stdout",
     "output_type": "stream",
     "text": [
      "{'name': 'Christian', 'weekly intake': 5, 'favorite ice cream': ['MCC', 'Strawberry', 'Chocolate']}\n"
     ]
    }
   ],
   "source": [
    "#delete\n",
    "\n",
    "del dict_cream['weight']\n",
    "print(dict_cream)"
   ]
  },
  {
   "cell_type": "code",
   "execution_count": null,
   "id": "0cd95958",
   "metadata": {},
   "outputs": [],
   "source": [
    "\n"
   ]
  }
 ],
 "metadata": {
  "kernelspec": {
   "display_name": "Python 3 (ipykernel)",
   "language": "python",
   "name": "python3"
  },
  "language_info": {
   "codemirror_mode": {
    "name": "ipython",
    "version": 3
   },
   "file_extension": ".py",
   "mimetype": "text/x-python",
   "name": "python",
   "nbconvert_exporter": "python",
   "pygments_lexer": "ipython3",
   "version": "3.11.3"
  }
 },
 "nbformat": 4,
 "nbformat_minor": 5
}
